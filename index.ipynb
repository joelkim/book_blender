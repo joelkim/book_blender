{
 "cells": [
  {
   "cell_type": "markdown",
   "metadata": {},
   "source": [
    "# Blender Book"
   ]
  },
  {
   "cell_type": "markdown",
   "metadata": {},
   "source": [
    "::: {.hidden}\n",
    "\n",
    "chrome-extension://oemmndcbldboiebfnladdacbdfmadadm/file:///Users/joelkim/Work/study/study_drawing/book/Tools/Blender/Acampora/2023%20-%20Acampora%20-%20Python%20Scripting%20in%20Blender.pdf#%5B%7B%22num%22%3A9400%2C%22gen%22%3A0%7D%2C%7B%22name%22%3A%22XYZ%22%7D%2C9%2C679%2C0%5D\n",
    "\n",
    ":::"
   ]
  },
  {
   "cell_type": "markdown",
   "metadata": {},
   "source": []
  }
 ],
 "metadata": {
  "language_info": {
   "name": "python"
  }
 },
 "nbformat": 4,
 "nbformat_minor": 2
}
