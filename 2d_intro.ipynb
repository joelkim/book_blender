{
 "cells": [
  {
   "cell_type": "markdown",
   "id": "473a9bbe",
   "metadata": {},
   "source": [
    "# 2차원 애니메이션"
   ]
  },
  {
   "cell_type": "markdown",
   "id": "2fce8966",
   "metadata": {},
   "source": [
    "## 그리스 펜슬 (Grease Pencil)"
   ]
  },
  {
   "cell_type": "markdown",
   "id": "45da661c",
   "metadata": {},
   "source": [
    "- 블렌더의 '그리스 펜슬(Grease Pencil)'은 2D 애니메이션을 3D 환경에서 제작할 수 있게 해주는 기능\n",
    "- 이름이 '그리스 펜슬'이라고 붙은 이유\n",
    "  - 전통적인 애니메이션 제작 방식에서 유래\n",
    "  - 과거에는 애니메이션 작업을 할 때 셀(cell)에 그림을 그리고, 그 셀을 카메라 앞에 놓고 촬영\n",
    "  - 이때 셀에 표시된 중요한 마커나 프레임 번호 등을 표시하기 위해 '그리스 펜슬'이라는 특수 연필을 사용\n",
    "  - 그리스 펜슬은 왁스 기반이라서 부드럽게 잘 그려지고, 쉽게 지울 수 있음\n",
    "- 블렌더의 '그리스 펜슬'은 이러한 전통적인 도구의 개념을 디지털 환경으로 가져와, 3D 공간에 그림을 그리거나 애니메이션을 만들 수 있게 함\n",
    "- 3D 모델 위에 스케치를 하거나, 2D 캐릭터를 만들어 3D 공간에서 움직이는 것처럼 보이게 하는 데 사용"
   ]
  },
  {
   "cell_type": "markdown",
   "id": "f1c7d727",
   "metadata": {},
   "source": []
  }
 ],
 "metadata": {
  "language_info": {
   "name": "python"
  }
 },
 "nbformat": 4,
 "nbformat_minor": 5
}
