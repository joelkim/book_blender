{
 "cells": [
  {
   "cell_type": "markdown",
   "id": "473a9bbe",
   "metadata": {},
   "source": [
    "# 3차원 모델링"
   ]
  },
  {
   "cell_type": "markdown",
   "id": "2fce8966",
   "metadata": {},
   "source": []
  },
  {
   "cell_type": "markdown",
   "id": "a7e92dc9",
   "metadata": {},
   "source": []
  }
 ],
 "metadata": {
  "language_info": {
   "name": "python"
  }
 },
 "nbformat": 4,
 "nbformat_minor": 5
}
