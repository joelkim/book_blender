{
 "cells": [
  {
   "cell_type": "markdown",
   "id": "473a9bbe",
   "metadata": {},
   "source": [
    "# 블렌더 사용자 인터페이스"
   ]
  },
  {
   "cell_type": "markdown",
   "id": "2fce8966",
   "metadata": {},
   "source": []
  }
 ],
 "metadata": {
  "language_info": {
   "name": "python"
  }
 },
 "nbformat": 4,
 "nbformat_minor": 5
}
